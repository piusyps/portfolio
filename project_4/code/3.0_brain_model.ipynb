{
 "cells": [
  {
   "cell_type": "markdown",
   "id": "5936390d",
   "metadata": {},
   "source": [
    "<img src=\"http://imgur.com/1ZcRyrc.png\" style=\"float: left; margin: 20px; height: 55px\">\n",
    "\n",
    "# Project 4: 3.0 Modelling - CT Scan Image Stroke Detector\n",
    "> Authors: Michael King Sutanto, Eugene Matthew Cheong, Pius Yee"
   ]
  },
  {
   "cell_type": "markdown",
   "id": "2bf12bee",
   "metadata": {},
   "source": [
    "##### In this notebook, we will train a Keras CNN model to predict stroke risk using CT scan images."
   ]
  },
  {
   "cell_type": "markdown",
   "id": "af21ef83",
   "metadata": {},
   "source": [
    "---\n",
    "## Table of Contents ##\n",
    "\n",
    "### Notebook 3.0 Modelling - CT Scan Image Stroke Detector ###\n",
    "\n",
    "#### 1. Importing libraries\n",
    "\n",
    "#### 2. Preparing data\n",
    "\n",
    "[2.1 Setup Data Directory](#2.1-setup-data-directory)\n",
    "\n",
    "[2.2 Data augmentation and preprocessing](#2.2-data-augmentation-and-preprocessing)\n",
    "\n",
    "#### 3. Modelling\n",
    "\n",
    "[3.1 Model Architecture](#3.1-model-architecture)\n",
    "\n",
    "[3.2 Model Training](#3.2-model-training)\n",
    "\n",
    "[3.3 Model Evaluation](#3.3-model-evaluation)\n",
    "\n",
    "[3.3.1 Review `Loss` and `Recall` over training Epochs](#3.3.1-Review-Loss-and-Recall-over-training-Epochs)\n",
    "\n",
    "[3.3.2 Model scores](#3.3.2-model-scores)\n",
    "\n",
    "[3.3.3 Confusion map](#3.3.3-confusion-map)\n",
    "\n",
    "[3.4 Evaluate the prediction with random test data](#3.4-evaluate-the-prediction-with-random-test-data)\n",
    "\n",
    "#### 4. Model export\n",
    "\n",
    "[4.0 Model export](#4.-model-export)\n",
    "\n",
    "#### 5.0 Summary - CT Scan image model\n",
    "\n",
    "[5.0 Summary - CT Scan image model](#5.0-Summary---CT-scan-image-Model)\n",
    "\n",
    "#### For overall Project 4\n",
    "\n",
    "[Limitation of the models](#limitation-of-the-models)\n",
    "\n",
    "[Recommendation](#recommendation)\n",
    "\n",
    "[Conclusion](#conclusion)\n",
    "\n",
    "---"
   ]
  },
  {
   "cell_type": "markdown",
   "id": "97fb3898",
   "metadata": {},
   "source": [
    "## 1. Import Libraries"
   ]
  },
  {
   "cell_type": "code",
   "execution_count": 1,
   "id": "8743a2f8",
   "metadata": {},
   "outputs": [],
   "source": [
    "import os\n",
    "import cv2\n",
    "import numpy as np\n",
    "import seaborn as sns\n",
    "import matplotlib.pyplot as plt\n",
    "\n",
    "from sklearn.model_selection import train_test_split\n",
    "from sklearn.metrics import confusion_matrix, classification_report, accuracy_score, precision_score, recall_score, f1_score\n",
    "\n",
    "import tensorflow as tf\n",
    "from tensorflow.keras.models import Sequential, load_model\n",
    "from tensorflow.keras.optimizers import Adam\n",
    "from tensorflow.keras.layers import Conv2D, MaxPooling2D, Flatten, Dense\n",
    "from tensorflow.keras.metrics import Recall\n",
    "from tensorflow.keras.preprocessing.image import ImageDataGenerator, img_to_array, load_img\n",
    "\n",
    "from gradcam import GradCAM"
   ]
  },
  {
   "cell_type": "markdown",
   "id": "19595138",
   "metadata": {},
   "source": [
    "## 2. Preparing Data"
   ]
  },
  {
   "cell_type": "markdown",
   "id": "0b426698",
   "metadata": {},
   "source": [
    "### 2.1 Setup Data Directory"
   ]
  },
  {
   "cell_type": "markdown",
   "id": "bab3f422",
   "metadata": {},
   "source": [
    "##### We have CT scan image datasets for Train, Test and Validation. In each datasets, there are 2 separate directories for `stroke` and `normal` images."
   ]
  },
  {
   "cell_type": "code",
   "execution_count": 2,
   "id": "71ccf7fc",
   "metadata": {},
   "outputs": [],
   "source": [
    "data_dir = '../datasets/brain_datasets/' # main directory\n",
    "train_dir = os.path.join(data_dir, 'Train') # for train data\n",
    "test_dir = os.path.join(data_dir, 'Test') # for test data\n",
    "validation_dir = os.path.join(data_dir, 'Validation') # for validation data"
   ]
  },
  {
   "cell_type": "markdown",
   "id": "30d45e59",
   "metadata": {},
   "source": [
    "### 2.2 Data augmentation and preprocessing"
   ]
  },
  {
   "cell_type": "markdown",
   "id": "2a7f7f0b",
   "metadata": {},
   "source": [
    "##### Before fitting into model, we will import and process the CT scan images. \n",
    "\n",
    "##### We also use augmentation on the images to artificially expands the training data with variations to prevent overfitting and improve model performance on unseen images."
   ]
  },
  {
   "cell_type": "code",
   "execution_count": 3,
   "id": "a5e71757",
   "metadata": {},
   "outputs": [
    {
     "name": "stdout",
     "output_type": "stream",
     "text": [
      "Found 1843 images belonging to 2 classes.\n"
     ]
    },
    {
     "name": "stdout",
     "output_type": "stream",
     "text": [
      "Found 235 images belonging to 2 classes.\n"
     ]
    }
   ],
   "source": [
    "# set the image dimensions\n",
    "img_width, img_height = 256, 256\n",
    "\n",
    "\n",
    "# Updated Data augmentation and preprocessing with additional rotation +/- 10 degree and zoom +/- 10%\n",
    "train_datagen = ImageDataGenerator(   # for train data\n",
    "    rescale=1.0/255.0,\n",
    "    rotation_range=10, # Random rotations\n",
    "    zoom_range=0.1  # Random zooming\n",
    ")\n",
    "\n",
    "test_datagen = ImageDataGenerator(rescale=1.0/255.0) # for test data (without augmentation)\n",
    "\n",
    "\n",
    "# Setting up generators\n",
    "train_data = train_datagen.flow_from_directory( # flow_from_directory automatically infers labels (stroke or not) based on subfolder names (stroke and normal).\n",
    "    train_dir,\n",
    "    target_size=(img_width, img_height),\n",
    "    batch_size=32,\n",
    "    class_mode='binary'\n",
    ")\n",
    "\n",
    "validation_data = test_datagen.flow_from_directory(\n",
    "    validation_dir,\n",
    "    target_size=(img_width, img_height),\n",
    "    batch_size=32,\n",
    "    class_mode='binary'\n",
    ")"
   ]
  },
  {
   "cell_type": "markdown",
   "id": "c340fad7",
   "metadata": {},
   "source": [
    "##### We have 41% of stroke images and 59% of non-stroke images in the training data."
   ]
  },
  {
   "cell_type": "code",
   "execution_count": 4,
   "id": "41e3ae23",
   "metadata": {},
   "outputs": [
    {
     "data": {
      "image/png": "[encoded data removed]",
      "text/plain": [
       "<Figure size 640x480 with 1 Axes>"
      ]
     },
     "metadata": {},
     "output_type": "display_data"
    }
   ],
   "source": [
    "# define the data\n",
    "sum_stroke = len([i for i in train_data.classes if i == 1]) # number of images for stroke\n",
    "sum_nonstroke = len([i for i in train_data.classes if i == 0]) #number of images for non-stroke\n",
    "\n",
    "# Create the pie chart\n",
    "plt.pie([sum_stroke,sum_nonstroke], labels=['Stroke', 'Non-stroke'], autopct=\"%1.1f%%\")  # autopct displays percentages\n",
    "\n",
    "# Add a title\n",
    "plt.title('Proportion of stroke vs. non-stroke images in training data')\n",
    "\n",
    "# Display the pie chart\n",
    "plt.show()"
   ]
  },
  {
   "cell_type": "markdown",
   "id": "acdcfb81",
   "metadata": {},
   "source": [
    "## 3. Modeling"
   ]
  },
  {
   "cell_type": "markdown",
   "id": "5e62b71a",
   "metadata": {},
   "source": [
    "### 3.1 Model Architecture"
   ]
  },
  {
   "cell_type": "markdown",
   "id": "8660e1ee",
   "metadata": {},
   "source": [
    "Model went through an iterative process, started with lesser layers.  \n",
    "We use many layers to extract low level features in the initial layers and to capture high level abstract features in the end layers.  \n",
    "The pooling laters help us reduce dimensionality and computational load while preserving important features."
   ]
  },
  {
   "cell_type": "code",
   "execution_count": 5,
   "id": "8dd4101b",
   "metadata": {},
   "outputs": [
    {
     "name": "stderr",
     "output_type": "stream",
     "text": [
      "/Users/piusyee/anaconda3/lib/python3.11/site-packages/keras/src/layers/convolutional/base_conv.py:99: UserWarning: Do not pass an `input_shape`/`input_dim` argument to a layer. When using Sequential models, prefer using an `Input(shape)` object as the first layer in the model instead.\n",
      "  super().__init__(\n",
      "2024-04-12 11:17:09.981419: I metal_plugin/src/device/metal_device.cc:1154] Metal device set to: Apple M1\n",
      "2024-04-12 11:17:09.981453: I metal_plugin/src/device/metal_device.cc:296] systemMemory: 8.00 GB\n",
      "2024-04-12 11:17:09.981469: I metal_plugin/src/device/metal_device.cc:313] maxCacheSize: 2.67 GB\n",
      "2024-04-12 11:17:09.981758: I tensorflow/core/common_runtime/pluggable_device/pluggable_device_factory.cc:305] Could not identify NUMA node of platform GPU ID 0, defaulting to 0. Your kernel may not have been built with NUMA support.\n",
      "2024-04-12 11:17:09.981776: I tensorflow/core/common_runtime/pluggable_device/pluggable_device_factory.cc:271] Created TensorFlow device (/job:localhost/replica:0/task:0/device:GPU:0 with 0 MB memory) -> physical PluggableDevice (device: 0, name: METAL, pci bus id: <undefined>)\n"
     ]
    },
    {
     "data": {
      "text/html": [
       "<pre style=\"white-space:pre;overflow-x:auto;line-height:normal;font-family:Menlo,'DejaVu Sans Mono',consolas,'Courier New',monospace\"><span style=\"font-weight: bold\">Model: \"sequential\"</span>\n",
       "</pre>\n"
      ],
      "text/plain": [
       "\u001b[1mModel: \"sequential\"\u001b[0m\n"
      ]
     },
     "metadata": {},
     "output_type": "display_data"
    },
    {
     "data": {
      "text/html": [
       "<pre style=\"white-space:pre;overflow-x:auto;line-height:normal;font-family:Menlo,'DejaVu Sans Mono',consolas,'Courier New',monospace\">┏━━━━━━━━━━━━━━━━━━━━━━━━━━━━━━━━━┳━━━━━━━━━━━━━━━━━━━━━━━━┳━━━━━━━━━━━━━━━┓\n",
       "┃<span style=\"font-weight: bold\"> Layer (type)                    </span>┃<span style=\"font-weight: bold\"> Output Shape           </span>┃<span style=\"font-weight: bold\">       Param # </span>┃\n",
       "┡━━━━━━━━━━━━━━━━━━━━━━━━━━━━━━━━━╇━━━━━━━━━━━━━━━━━━━━━━━━╇━━━━━━━━━━━━━━━┩\n",
       "│ conv2d (<span style=\"color: #0087ff; text-decoration-color: #0087ff\">Conv2D</span>)                 │ (<span style=\"color: #00d7ff; text-decoration-color: #00d7ff\">None</span>, <span style=\"color: #00af00; text-decoration-color: #00af00\">254</span>, <span style=\"color: #00af00; text-decoration-color: #00af00\">254</span>, <span style=\"color: #00af00; text-decoration-color: #00af00\">32</span>)   │           <span style=\"color: #00af00; text-decoration-color: #00af00\">896</span> │\n",
       "├─────────────────────────────────┼────────────────────────┼───────────────┤\n",
       "│ max_pooling2d (<span style=\"color: #0087ff; text-decoration-color: #0087ff\">MaxPooling2D</span>)    │ (<span style=\"color: #00d7ff; text-decoration-color: #00d7ff\">None</span>, <span style=\"color: #00af00; text-decoration-color: #00af00\">127</span>, <span style=\"color: #00af00; text-decoration-color: #00af00\">127</span>, <span style=\"color: #00af00; text-decoration-color: #00af00\">32</span>)   │             <span style=\"color: #00af00; text-decoration-color: #00af00\">0</span> │\n",
       "├─────────────────────────────────┼────────────────────────┼───────────────┤\n",
       "│ conv2d_1 (<span style=\"color: #0087ff; text-decoration-color: #0087ff\">Conv2D</span>)               │ (<span style=\"color: #00d7ff; text-decoration-color: #00d7ff\">None</span>, <span style=\"color: #00af00; text-decoration-color: #00af00\">125</span>, <span style=\"color: #00af00; text-decoration-color: #00af00\">125</span>, <span style=\"color: #00af00; text-decoration-color: #00af00\">64</span>)   │        <span style=\"color: #00af00; text-decoration-color: #00af00\">18,496</span> │\n",
       "├─────────────────────────────────┼────────────────────────┼───────────────┤\n",
       "│ max_pooling2d_1 (<span style=\"color: #0087ff; text-decoration-color: #0087ff\">MaxPooling2D</span>)  │ (<span style=\"color: #00d7ff; text-decoration-color: #00d7ff\">None</span>, <span style=\"color: #00af00; text-decoration-color: #00af00\">62</span>, <span style=\"color: #00af00; text-decoration-color: #00af00\">62</span>, <span style=\"color: #00af00; text-decoration-color: #00af00\">64</span>)     │             <span style=\"color: #00af00; text-decoration-color: #00af00\">0</span> │\n",
       "├─────────────────────────────────┼────────────────────────┼───────────────┤\n",
       "│ conv2d_2 (<span style=\"color: #0087ff; text-decoration-color: #0087ff\">Conv2D</span>)               │ (<span style=\"color: #00d7ff; text-decoration-color: #00d7ff\">None</span>, <span style=\"color: #00af00; text-decoration-color: #00af00\">60</span>, <span style=\"color: #00af00; text-decoration-color: #00af00\">60</span>, <span style=\"color: #00af00; text-decoration-color: #00af00\">128</span>)    │        <span style=\"color: #00af00; text-decoration-color: #00af00\">73,856</span> │\n",
       "├─────────────────────────────────┼────────────────────────┼───────────────┤\n",
       "│ max_pooling2d_2 (<span style=\"color: #0087ff; text-decoration-color: #0087ff\">MaxPooling2D</span>)  │ (<span style=\"color: #00d7ff; text-decoration-color: #00d7ff\">None</span>, <span style=\"color: #00af00; text-decoration-color: #00af00\">30</span>, <span style=\"color: #00af00; text-decoration-color: #00af00\">30</span>, <span style=\"color: #00af00; text-decoration-color: #00af00\">128</span>)    │             <span style=\"color: #00af00; text-decoration-color: #00af00\">0</span> │\n",
       "├─────────────────────────────────┼────────────────────────┼───────────────┤\n",
       "│ flatten (<span style=\"color: #0087ff; text-decoration-color: #0087ff\">Flatten</span>)               │ (<span style=\"color: #00d7ff; text-decoration-color: #00d7ff\">None</span>, <span style=\"color: #00af00; text-decoration-color: #00af00\">115200</span>)         │             <span style=\"color: #00af00; text-decoration-color: #00af00\">0</span> │\n",
       "├─────────────────────────────────┼────────────────────────┼───────────────┤\n",
       "│ dense (<span style=\"color: #0087ff; text-decoration-color: #0087ff\">Dense</span>)                   │ (<span style=\"color: #00d7ff; text-decoration-color: #00d7ff\">None</span>, <span style=\"color: #00af00; text-decoration-color: #00af00\">64</span>)             │     <span style=\"color: #00af00; text-decoration-color: #00af00\">7,372,864</span> │\n",
       "├─────────────────────────────────┼────────────────────────┼───────────────┤\n",
       "│ dense_1 (<span style=\"color: #0087ff; text-decoration-color: #0087ff\">Dense</span>)                 │ (<span style=\"color: #00d7ff; text-decoration-color: #00d7ff\">None</span>, <span style=\"color: #00af00; text-decoration-color: #00af00\">1</span>)              │            <span style=\"color: #00af00; text-decoration-color: #00af00\">65</span> │\n",
       "└─────────────────────────────────┴────────────────────────┴───────────────┘\n",
       "</pre>\n"
      ],
      "text/plain": [
       "┏━━━━━━━━━━━━━━━━━━━━━━━━━━━━━━━━━┳━━━━━━━━━━━━━━━━━━━━━━━━┳━━━━━━━━━━━━━━━┓\n",
       "┃\u001b[1m \u001b[0m\u001b[1mLayer (type)                   \u001b[0m\u001b[1m \u001b[0m┃\u001b[1m \u001b[0m\u001b[1mOutput Shape          \u001b[0m\u001b[1m \u001b[0m┃\u001b[1m \u001b[0m\u001b[1m      Param #\u001b[0m\u001b[1m \u001b[0m┃\n",
       "┡━━━━━━━━━━━━━━━━━━━━━━━━━━━━━━━━━╇━━━━━━━━━━━━━━━━━━━━━━━━╇━━━━━━━━━━━━━━━┩\n",
       "│ conv2d (\u001b[38;5;33mConv2D\u001b[0m)                 │ (\u001b[38;5;45mNone\u001b[0m, \u001b[38;5;34m254\u001b[0m, \u001b[38;5;34m254\u001b[0m, \u001b[38;5;34m32\u001b[0m)   │           \u001b[38;5;34m896\u001b[0m │\n",
       "├─────────────────────────────────┼────────────────────────┼───────────────┤\n",
       "│ max_pooling2d (\u001b[38;5;33mMaxPooling2D\u001b[0m)    │ (\u001b[38;5;45mNone\u001b[0m, \u001b[38;5;34m127\u001b[0m, \u001b[38;5;34m127\u001b[0m, \u001b[38;5;34m32\u001b[0m)   │             \u001b[38;5;34m0\u001b[0m │\n",
       "├─────────────────────────────────┼────────────────────────┼───────────────┤\n",
       "│ conv2d_1 (\u001b[38;5;33mConv2D\u001b[0m)               │ (\u001b[38;5;45mNone\u001b[0m, \u001b[38;5;34m125\u001b[0m, \u001b[38;5;34m125\u001b[0m, \u001b[38;5;34m64\u001b[0m)   │        \u001b[38;5;34m18,496\u001b[0m │\n",
       "├─────────────────────────────────┼────────────────────────┼───────────────┤\n",
       "│ max_pooling2d_1 (\u001b[38;5;33mMaxPooling2D\u001b[0m)  │ (\u001b[38;5;45mNone\u001b[0m, \u001b[38;5;34m62\u001b[0m, \u001b[38;5;34m62\u001b[0m, \u001b[38;5;34m64\u001b[0m)     │             \u001b[38;5;34m0\u001b[0m │\n",
       "├─────────────────────────────────┼────────────────────────┼───────────────┤\n",
       "│ conv2d_2 (\u001b[38;5;33mConv2D\u001b[0m)               │ (\u001b[38;5;45mNone\u001b[0m, \u001b[38;5;34m60\u001b[0m, \u001b[38;5;34m60\u001b[0m, \u001b[38;5;34m128\u001b[0m)    │        \u001b[38;5;34m73,856\u001b[0m │\n",
       "├─────────────────────────────────┼────────────────────────┼───────────────┤\n",
       "│ max_pooling2d_2 (\u001b[38;5;33mMaxPooling2D\u001b[0m)  │ (\u001b[38;5;45mNone\u001b[0m, \u001b[38;5;34m30\u001b[0m, \u001b[38;5;34m30\u001b[0m, \u001b[38;5;34m128\u001b[0m)    │             \u001b[38;5;34m0\u001b[0m │\n",
       "├─────────────────────────────────┼────────────────────────┼───────────────┤\n",
       "│ flatten (\u001b[38;5;33mFlatten\u001b[0m)               │ (\u001b[38;5;45mNone\u001b[0m, \u001b[38;5;34m115200\u001b[0m)         │             \u001b[38;5;34m0\u001b[0m │\n",
       "├─────────────────────────────────┼────────────────────────┼───────────────┤\n",
       "│ dense (\u001b[38;5;33mDense\u001b[0m)                   │ (\u001b[38;5;45mNone\u001b[0m, \u001b[38;5;34m64\u001b[0m)             │     \u001b[38;5;34m7,372,864\u001b[0m │\n",
       "├─────────────────────────────────┼────────────────────────┼───────────────┤\n",
       "│ dense_1 (\u001b[38;5;33mDense\u001b[0m)                 │ (\u001b[38;5;45mNone\u001b[0m, \u001b[38;5;34m1\u001b[0m)              │            \u001b[38;5;34m65\u001b[0m │\n",
       "└─────────────────────────────────┴────────────────────────┴───────────────┘\n"
      ]
     },
     "metadata": {},
     "output_type": "display_data"
    },
    {
     "data": {
      "text/html": [
       "<pre style=\"white-space:pre;overflow-x:auto;line-height:normal;font-family:Menlo,'DejaVu Sans Mono',consolas,'Courier New',monospace\"><span style=\"font-weight: bold\"> Total params: </span><span style=\"color: #00af00; text-decoration-color: #00af00\">7,466,177</span> (28.48 MB)\n",
       "</pre>\n"
      ],
      "text/plain": [
       "\u001b[1m Total params: \u001b[0m\u001b[38;5;34m7,466,177\u001b[0m (28.48 MB)\n"
      ]
     },
     "metadata": {},
     "output_type": "display_data"
    },
    {
     "data": {
      "text/html": [
       "<pre style=\"white-space:pre;overflow-x:auto;line-height:normal;font-family:Menlo,'DejaVu Sans Mono',consolas,'Courier New',monospace\"><span style=\"font-weight: bold\"> Trainable params: </span><span style=\"color: #00af00; text-decoration-color: #00af00\">7,466,177</span> (28.48 MB)\n",
       "</pre>\n"
      ],
      "text/plain": [
       "\u001b[1m Trainable params: \u001b[0m\u001b[38;5;34m7,466,177\u001b[0m (28.48 MB)\n"
      ]
     },
     "metadata": {},
     "output_type": "display_data"
    },
    {
     "data": {
      "text/html": [
       "<pre style=\"white-space:pre;overflow-x:auto;line-height:normal;font-family:Menlo,'DejaVu Sans Mono',consolas,'Courier New',monospace\"><span style=\"font-weight: bold\"> Non-trainable params: </span><span style=\"color: #00af00; text-decoration-color: #00af00\">0</span> (0.00 B)\n",
       "</pre>\n"
      ],
      "text/plain": [
       "\u001b[1m Non-trainable params: \u001b[0m\u001b[38;5;34m0\u001b[0m (0.00 B)\n"
      ]
     },
     "metadata": {},
     "output_type": "display_data"
    }
   ],
   "source": [
    "# use sequential as the model\n",
    "model = Sequential()\n",
    "\n",
    "# build a sequential CNN model with convolutional layers for feature extraction and pooling layers for downsampling\n",
    "model.add(Conv2D(32, (3, 3), activation='relu', input_shape=(img_width, img_height, 3)))\n",
    "model.add(MaxPooling2D((2, 2)))\n",
    "model.add(Conv2D(64, (3, 3), activation='relu'))\n",
    "model.add(MaxPooling2D((2, 2)))\n",
    "model.add(Conv2D(128, (3, 3), activation='relu'))\n",
    "model.add(MaxPooling2D((2, 2)))\n",
    "\n",
    "#  fully connected layers for final classification\n",
    "model.add(Flatten()) # Flatten the data for fully connected layers\n",
    "model.add(Dense(64, activation='relu')) # Fully connected layer\n",
    "model.add(Dense(1, activation='sigmoid')) # Output layer with sigmoid activation for binary classification (stroke or not)\n",
    "\n",
    "model.summary()"
   ]
  },
  {
   "cell_type": "markdown",
   "id": "11fd3297",
   "metadata": {},
   "source": [
    "### 3.2 Model Training"
   ]
  },
  {
   "cell_type": "markdown",
   "id": "3289e2bb",
   "metadata": {},
   "source": [
    "Since this is a medical application, we will prioritize sensitivity (recall) as our metric to minimize false negatives.\""
   ]
  },
  {
   "cell_type": "code",
   "execution_count": 6,
   "id": "ea65c6bb",
   "metadata": {},
   "outputs": [
    {
     "name": "stdout",
     "output_type": "stream",
     "text": [
      "Epoch 1/25\n"
     ]
    },
    {
     "name": "stderr",
     "output_type": "stream",
     "text": [
      "2024-04-12 11:17:11.374617: I tensorflow/core/grappler/optimizers/custom_graph_optimizer_registry.cc:117] Plugin optimizer for device_type GPU is enabled.\n",
      "/Users/piusyee/anaconda3/lib/python3.11/site-packages/keras/src/trainers/data_adapters/py_dataset_adapter.py:120: UserWarning: Your `PyDataset` class should call `super().__init__(**kwargs)` in its constructor. `**kwargs` can include `workers`, `use_multiprocessing`, `max_queue_size`. Do not pass these arguments to `fit()`, as they will be ignored.\n",
      "  self._warn_if_super_not_called()\n"
     ]
    },
    {
     "name": "stdout",
     "output_type": "stream",
     "text": [
      "\u001b[1m58/58\u001b[0m \u001b[32m━━━━━━━━━━━━━━━━━━━━\u001b[0m\u001b[37m\u001b[0m \u001b[1m25s\u001b[0m 318ms/step - loss: 0.8120 - recall: 0.2263 - val_loss: 0.5784 - val_recall: 0.3205\n",
      "Epoch 2/25\n",
      "\u001b[1m58/58\u001b[0m \u001b[32m━━━━━━━━━━━━━━━━━━━━\u001b[0m\u001b[37m\u001b[0m \u001b[1m19s\u001b[0m 291ms/step - loss: 0.6192 - recall: 0.3251 - val_loss: 0.5107 - val_recall: 0.5897\n",
      "Epoch 3/25\n",
      "\u001b[1m58/58\u001b[0m \u001b[32m━━━━━━━━━━━━━━━━━━━━\u001b[0m\u001b[37m\u001b[0m \u001b[1m21s\u001b[0m 322ms/step - loss: 0.5696 - recall: 0.4610 - val_loss: 0.5198 - val_recall: 0.7308\n",
      "Epoch 4/25\n",
      "\u001b[1m58/58\u001b[0m \u001b[32m━━━━━━━━━━━━━━━━━━━━\u001b[0m\u001b[37m\u001b[0m \u001b[1m21s\u001b[0m 315ms/step - loss: 0.5426 - recall: 0.5932 - val_loss: 0.3832 - val_recall: 0.6154\n",
      "Epoch 5/25\n",
      "\u001b[1m58/58\u001b[0m \u001b[32m━━━━━━━━━━━━━━━━━━━━\u001b[0m\u001b[37m\u001b[0m \u001b[1m21s\u001b[0m 323ms/step - loss: 0.4822 - recall: 0.6438 - val_loss: 0.3989 - val_recall: 0.7692\n",
      "Epoch 6/25\n",
      "\u001b[1m58/58\u001b[0m \u001b[32m━━━━━━━━━━━━━━━━━━━━\u001b[0m\u001b[37m\u001b[0m \u001b[1m25s\u001b[0m 382ms/step - loss: 0.4473 - recall: 0.6981 - val_loss: 0.3358 - val_recall: 0.7436\n",
      "Epoch 7/25\n",
      "\u001b[1m58/58\u001b[0m \u001b[32m━━━━━━━━━━━━━━━━━━━━\u001b[0m\u001b[37m\u001b[0m \u001b[1m24s\u001b[0m 369ms/step - loss: 0.3950 - recall: 0.7333 - val_loss: 0.3393 - val_recall: 0.8462\n",
      "Epoch 8/25\n",
      "\u001b[1m58/58\u001b[0m \u001b[32m━━━━━━━━━━━━━━━━━━━━\u001b[0m\u001b[37m\u001b[0m \u001b[1m26s\u001b[0m 408ms/step - loss: 0.3574 - recall: 0.8069 - val_loss: 0.2983 - val_recall: 0.8205\n",
      "Epoch 9/25\n",
      "\u001b[1m58/58\u001b[0m \u001b[32m━━━━━━━━━━━━━━━━━━━━\u001b[0m\u001b[37m\u001b[0m \u001b[1m26s\u001b[0m 401ms/step - loss: 0.3087 - recall: 0.8087 - val_loss: 0.2853 - val_recall: 0.8846\n",
      "Epoch 10/25\n",
      "\u001b[1m58/58\u001b[0m \u001b[32m━━━━━━━━━━━━━━━━━━━━\u001b[0m\u001b[37m\u001b[0m \u001b[1m29s\u001b[0m 460ms/step - loss: 0.2906 - recall: 0.8371 - val_loss: 0.3853 - val_recall: 0.9872\n",
      "Epoch 11/25\n",
      "\u001b[1m58/58\u001b[0m \u001b[32m━━━━━━━━━━━━━━━━━━━━\u001b[0m\u001b[37m\u001b[0m \u001b[1m32s\u001b[0m 493ms/step - loss: 0.2840 - recall: 0.8563 - val_loss: 0.2325 - val_recall: 0.9231\n",
      "Epoch 12/25\n",
      "\u001b[1m58/58\u001b[0m \u001b[32m━━━━━━━━━━━━━━━━━━━━\u001b[0m\u001b[37m\u001b[0m \u001b[1m26s\u001b[0m 399ms/step - loss: 0.2493 - recall: 0.8682 - val_loss: 0.2405 - val_recall: 0.7308\n",
      "Epoch 13/25\n",
      "\u001b[1m58/58\u001b[0m \u001b[32m━━━━━━━━━━━━━━━━━━━━\u001b[0m\u001b[37m\u001b[0m \u001b[1m24s\u001b[0m 377ms/step - loss: 0.2603 - recall: 0.8391 - val_loss: 0.1990 - val_recall: 0.9615\n",
      "Epoch 14/25\n",
      "\u001b[1m58/58\u001b[0m \u001b[32m━━━━━━━━━━━━━━━━━━━━\u001b[0m\u001b[37m\u001b[0m \u001b[1m23s\u001b[0m 362ms/step - loss: 0.2014 - recall: 0.8912 - val_loss: 0.2648 - val_recall: 0.9103\n",
      "Epoch 15/25\n",
      "\u001b[1m58/58\u001b[0m \u001b[32m━━━━━━━━━━━━━━━━━━━━\u001b[0m\u001b[37m\u001b[0m \u001b[1m26s\u001b[0m 403ms/step - loss: 0.2196 - recall: 0.8504 - val_loss: 0.2638 - val_recall: 0.9231\n",
      "Epoch 16/25\n",
      "\u001b[1m58/58\u001b[0m \u001b[32m━━━━━━━━━━━━━━━━━━━━\u001b[0m\u001b[37m\u001b[0m \u001b[1m26s\u001b[0m 397ms/step - loss: 0.1629 - recall: 0.9154 - val_loss: 0.2517 - val_recall: 1.0000\n",
      "Epoch 17/25\n",
      "\u001b[1m58/58\u001b[0m \u001b[32m━━━━━━━━━━━━━━━━━━━━\u001b[0m\u001b[37m\u001b[0m \u001b[1m25s\u001b[0m 381ms/step - loss: 0.1609 - recall: 0.9151 - val_loss: 0.2025 - val_recall: 0.9744\n",
      "Epoch 18/25\n",
      "\u001b[1m58/58\u001b[0m \u001b[32m━━━━━━━━━━━━━━━━━━━━\u001b[0m\u001b[37m\u001b[0m \u001b[1m24s\u001b[0m 376ms/step - loss: 0.1663 - recall: 0.8890 - val_loss: 0.1479 - val_recall: 0.9615\n",
      "Epoch 19/25\n",
      "\u001b[1m58/58\u001b[0m \u001b[32m━━━━━━━━━━━━━━━━━━━━\u001b[0m\u001b[37m\u001b[0m \u001b[1m25s\u001b[0m 392ms/step - loss: 0.1629 - recall: 0.9091 - val_loss: 0.1947 - val_recall: 0.9615\n",
      "Epoch 20/25\n",
      "\u001b[1m58/58\u001b[0m \u001b[32m━━━━━━━━━━━━━━━━━━━━\u001b[0m\u001b[37m\u001b[0m \u001b[1m25s\u001b[0m 382ms/step - loss: 0.1074 - recall: 0.9373 - val_loss: 0.1403 - val_recall: 0.9231\n",
      "Epoch 21/25\n",
      "\u001b[1m58/58\u001b[0m \u001b[32m━━━━━━━━━━━━━━━━━━━━\u001b[0m\u001b[37m\u001b[0m \u001b[1m29s\u001b[0m 435ms/step - loss: 0.1193 - recall: 0.9454 - val_loss: 0.1742 - val_recall: 1.0000\n",
      "Epoch 22/25\n",
      "\u001b[1m58/58\u001b[0m \u001b[32m━━━━━━━━━━━━━━━━━━━━\u001b[0m\u001b[37m\u001b[0m \u001b[1m28s\u001b[0m 432ms/step - loss: 0.0917 - recall: 0.9491 - val_loss: 0.3180 - val_recall: 1.0000\n",
      "Epoch 23/25\n",
      "\u001b[1m58/58\u001b[0m \u001b[32m━━━━━━━━━━━━━━━━━━━━\u001b[0m\u001b[37m\u001b[0m \u001b[1m28s\u001b[0m 440ms/step - loss: 0.1349 - recall: 0.9505 - val_loss: 0.2015 - val_recall: 0.9744\n",
      "Epoch 24/25\n",
      "\u001b[1m58/58\u001b[0m \u001b[32m━━━━━━━━━━━━━━━━━━━━\u001b[0m\u001b[37m\u001b[0m \u001b[1m29s\u001b[0m 451ms/step - loss: 0.0836 - recall: 0.9683 - val_loss: 0.1456 - val_recall: 0.8974\n",
      "Epoch 25/25\n",
      "\u001b[1m58/58\u001b[0m \u001b[32m━━━━━━━━━━━━━━━━━━━━\u001b[0m\u001b[37m\u001b[0m \u001b[1m29s\u001b[0m 428ms/step - loss: 0.0969 - recall: 0.9316 - val_loss: 0.1309 - val_recall: 0.9744\n"
     ]
    }
   ],
   "source": [
    "# Compile the model (specifies loss function, optimizer, and metrics)\n",
    "model.compile(optimizer=Adam(learning_rate=0.001), loss='binary_crossentropy', metrics=['recall'])\n",
    "\n",
    "# fit the model on train data\n",
    "history = model.fit(train_data, epochs=25, validation_data=validation_data)"
   ]
  },
  {
   "cell_type": "markdown",
   "id": "d8291806",
   "metadata": {},
   "source": []
  },
  {
   "cell_type": "code",
   "execution_count": 7,
   "id": "37ae9501",
   "metadata": {},
   "outputs": [
    {
     "name": "stdout",
     "output_type": "stream",
     "text": [
      "Found 437 images belonging to 2 classes.\n"
     ]
    },
    {
     "name": "stdout",
     "output_type": "stream",
     "text": [
      "\u001b[1m14/14\u001b[0m \u001b[32m━━━━━━━━━━━━━━━━━━━━\u001b[0m\u001b[37m\u001b[0m \u001b[1m2s\u001b[0m 116ms/step - loss: 0.1279 - recall: 0.3435\n",
      "Test Loss: 0.18708448112010956\n",
      "Test Recall: 0.9076923131942749\n"
     ]
    }
   ],
   "source": [
    "# evaluate the model with test data\n",
    "test_data = test_datagen.flow_from_directory(\n",
    "    test_dir,\n",
    "    target_size=(img_width, img_height),\n",
    "    batch_size=32,\n",
    "    class_mode='binary',\n",
    "    shuffle=False\n",
    ")\n",
    "\n",
    "loss, recall = model.evaluate(test_data)\n",
    "print('Test Loss:', loss)\n",
    "print('Test Recall:', recall)"
   ]
  },
  {
   "cell_type": "markdown",
   "id": "c9a98258",
   "metadata": {},
   "source": [
    "### 3.3 Model Evaluation\n",
    "\n",
    "#### 3.3.1 Review `Loss` and `Recall` over training Epochs"
   ]
  },
  {
   "cell_type": "code",
   "execution_count": 8,
   "id": "eea504dd",
   "metadata": {
    "scrolled": false
   },
   "outputs": [
    {
     "data": {
      "image/png": "[encoded data removed]",
      "text/plain": [
       "<Figure size 700x500 with 1 Axes>"
      ]
     },
     "metadata": {},
     "output_type": "display_data"
    },
    {
     "data": {
      "image/png": "[encoded data removed]",
      "text/plain": [
       "<Figure size 700x500 with 1 Axes>"
      ]
     },
     "metadata": {},
     "output_type": "display_data"
    }
   ],
   "source": [
    "# Plot loss versus epoch\n",
    "fig = plt.figure(figsize=(7, 5))\n",
    "plt.plot(history.history['loss'])\n",
    "plt.plot(history.history['val_loss'])\n",
    "plt.title('Model Loss')\n",
    "plt.xlabel('Epoch')\n",
    "plt.ylabel('Loss')\n",
    "plt.legend(['Train', 'Test'], loc='upper right')\n",
    "fig.savefig('../images/Loss.png', format='png', dpi=600, bbox_inches=\"tight\")\n",
    "plt.show()\n",
    "\n",
    "# Plot recall versus epoch\n",
    "fig = plt.figure(figsize=(7, 5))\n",
    "plt.plot(history.history['recall'])\n",
    "plt.plot(history.history['val_recall'])\n",
    "plt.title('Model Recall')\n",
    "plt.xlabel('Epoch')\n",
    "plt.ylabel('Recall')\n",
    "plt.legend(['Train', 'Test'], loc='lower right')\n",
    "fig.savefig('../images/Recall.png', format='png', dpi=600, bbox_inches=\"tight\")\n",
    "plt.show()"
   ]
  },
  {
   "cell_type": "markdown",
   "id": "e009444d",
   "metadata": {},
   "source": [
    "##### Based on the plots above, the model's performance has significantly improved over epochs."
   ]
  },
  {
   "cell_type": "markdown",
   "id": "37a3646a",
   "metadata": {},
   "source": [
    "#### 3.3.2 Model scores"
   ]
  },
  {
   "cell_type": "markdown",
   "id": "bb12ead5",
   "metadata": {},
   "source": [
    "##### We evaluate the model scores based on the test data"
   ]
  },
  {
   "cell_type": "code",
   "execution_count": 9,
   "id": "3a4522a5",
   "metadata": {},
   "outputs": [
    {
     "name": "stdout",
     "output_type": "stream",
     "text": [
      "Found 437 images belonging to 2 classes.\n",
      "\u001b[1m14/14\u001b[0m \u001b[32m━━━━━━━━━━━━━━━━━━━━\u001b[0m\u001b[37m\u001b[0m \u001b[1m1s\u001b[0m 88ms/step\n",
      "\n",
      "Classification Report:\n",
      "\n",
      "              precision    recall  f1-score   support\n",
      "\n",
      "           0       0.96      0.95      0.96       307\n",
      "           1       0.89      0.91      0.90       130\n",
      "\n",
      "    accuracy                           0.94       437\n",
      "   macro avg       0.92      0.93      0.93       437\n",
      "weighted avg       0.94      0.94      0.94       437\n",
      "\n",
      "\n",
      "------------------------------------------------------\n",
      "\n",
      "Accuracy: 0.9382151029748284\n",
      "Precision: 0.8872180451127819\n",
      "Recall: 0.9076923076923077\n",
      "F1 Score: 0.8973384030418251\n",
      "\n",
      "------------------------------------------------------\n",
      "\n",
      "\n"
     ]
    }
   ],
   "source": [
    "# Evaluate\n",
    "test_data = test_datagen.flow_from_directory(\n",
    "    test_dir,\n",
    "    target_size=(img_width, img_height),\n",
    "    batch_size=32,\n",
    "    class_mode='binary',\n",
    "    shuffle=False\n",
    ")\n",
    "\n",
    "y_pred = model.predict(test_data)\n",
    "y_pred = np.round(y_pred).flatten()\n",
    "y_true = test_data.classes\n",
    "\n",
    "cm = confusion_matrix(y_true, y_pred)\n",
    "accuracy=accuracy_score(y_true, y_pred)\n",
    "precision = precision_score(y_true, y_pred)\n",
    "recall = recall_score(y_true, y_pred)\n",
    "f1 = f1_score(y_true, y_pred)\n",
    "\n",
    "print('\\nClassification Report:\\n')\n",
    "print(classification_report(y_true, y_pred))\n",
    "print('\\n------------------------------------------------------\\n')\n",
    "\n",
    "print('Accuracy:',accuracy)\n",
    "print('Precision:', precision)\n",
    "print('Recall:', recall)\n",
    "print('F1 Score:', f1)\n",
    "\n",
    "print('\\n------------------------------------------------------\\n\\n')\n"
   ]
  },
  {
   "cell_type": "markdown",
   "id": "c123c0d3",
   "metadata": {},
   "source": [
    "#### 3.3.3 Confusion map"
   ]
  },
  {
   "cell_type": "code",
   "execution_count": 10,
   "id": "6c705116",
   "metadata": {},
   "outputs": [
    {
     "data": {
      "image/png": "[encoded data removed]",
      "text/plain": [
       "<Figure size 700x500 with 2 Axes>"
      ]
     },
     "metadata": {},
     "output_type": "display_data"
    }
   ],
   "source": [
    "# Plot confusion matrix\n",
    "label_names = ['Normal', 'Stroke']  # Replace with your class labels\n",
    "beingsaved = plt.figure(figsize=(7, 5))\n",
    "sns.heatmap(cm, annot=True, fmt='d', cmap='Blues', cbar=True)\n",
    "plt.xticks(np.arange(len(label_names)) + 0.5, label_names)\n",
    "plt.yticks(np.arange(len(label_names)) + 0.5, label_names)\n",
    "plt.xlabel('Predicted Labels',fontsize=12)\n",
    "plt.ylabel('True Labels',fontsize=12)\n",
    "plt.title('Confusion Matrix')\n",
    "beingsaved.savefig('Stroke_Confusion_Matrix.png', format='png', dpi=600, bbox_inches=\"tight\")\n",
    "plt.show()"
   ]
  },
  {
   "cell_type": "markdown",
   "id": "fe1879c5",
   "metadata": {},
   "source": [
    "##### Based on the confusion map, the performance is very good. We have high true positive and true negative."
   ]
  },
  {
   "cell_type": "markdown",
   "id": "25b34599",
   "metadata": {},
   "source": [
    "#### 3.4 Evaluate the prediction with random test data"
   ]
  },
  {
   "cell_type": "markdown",
   "id": "85269311",
   "metadata": {},
   "source": [
    "##### (a) Test with a CT scan with `stroke`:"
   ]
  },
  {
   "cell_type": "code",
   "execution_count": 11,
   "id": "9bda8814",
   "metadata": {},
   "outputs": [
    {
     "name": "stdout",
     "output_type": "stream",
     "text": [
      "\u001b[1m1/1\u001b[0m \u001b[32m━━━━━━━━━━━━━━━━━━━━\u001b[0m\u001b[37m\u001b[0m \u001b[1m0s\u001b[0m 240ms/step\n",
      "Patient has 98.67% chance of getting stroke.\n"
     ]
    }
   ],
   "source": [
    "target_class_index = 1\n",
    "img_path = '../datasets/brain_datasets/Test/Stroke/77 (32).jpg'\n",
    "img = cv2.imread(img_path)\n",
    "img = cv2.resize(img, (img_width, img_height))\n",
    "img = np.expand_dims(img, axis=0) / 255.0\n",
    "\n",
    "predicted_class = model.predict(img)\n",
    "\n",
    "print(f'Patient has {format(predicted_class[0][0]*100, \".2f\")}% chance of getting stroke.')"
   ]
  },
  {
   "cell_type": "markdown",
   "id": "c2d0d342",
   "metadata": {},
   "source": [
    "The model predicted correctly as high chance of `stroke`."
   ]
  },
  {
   "cell_type": "markdown",
   "id": "c3da8b0c",
   "metadata": {},
   "source": [
    "##### (b) Test with a CT scan with `normal`:"
   ]
  },
  {
   "cell_type": "code",
   "execution_count": 12,
   "id": "4d43267e",
   "metadata": {},
   "outputs": [
    {
     "name": "stdout",
     "output_type": "stream",
     "text": [
      "\u001b[1m1/1\u001b[0m \u001b[32m━━━━━━━━━━━━━━━━━━━━\u001b[0m\u001b[37m\u001b[0m \u001b[1m0s\u001b[0m 22ms/step\n",
      "Patient has 0.59% chance of getting stroke.\n"
     ]
    }
   ],
   "source": [
    "target_class_index = 1\n",
    "img_path = '../datasets/brain_datasets/Test/Normal/61 (17).jpg'\n",
    "img = cv2.imread(img_path)\n",
    "img = cv2.resize(img, (img_width, img_height))\n",
    "img = np.expand_dims(img, axis=0) / 255.0\n",
    "\n",
    "predicted_class = model.predict(img)\n",
    "\n",
    "print(f'Patient has {format(predicted_class[0][0]*100, \".2f\")}% chance of getting stroke.')"
   ]
  },
  {
   "cell_type": "markdown",
   "id": "86cdbc32",
   "metadata": {},
   "source": [
    "The model predicted correctly as low chance of `stroke`."
   ]
  },
  {
   "cell_type": "markdown",
   "id": "7e1a0459",
   "metadata": {},
   "source": [
    "## 4. Model export"
   ]
  },
  {
   "cell_type": "markdown",
   "id": "689f8624",
   "metadata": {},
   "source": [
    "##### Exporting the model to use it in streamlit"
   ]
  },
  {
   "cell_type": "code",
   "execution_count": 13,
   "id": "ebd15a11",
   "metadata": {},
   "outputs": [
    {
     "name": "stderr",
     "output_type": "stream",
     "text": [
      "WARNING:absl:You are saving your model as an HDF5 file via `model.save()` or `keras.saving.save_model(model)`. This file format is considered legacy. We recommend using instead the native Keras format, e.g. `model.save('my_model.keras')` or `keras.saving.save_model(model, 'my_model.keras')`. \n"
     ]
    }
   ],
   "source": [
    "# Export as recommended Tensorflow 2 format.\n",
    "model.save('../models/ctscan_model.keras')\n",
    "\n",
    "# Export as Keras H5 format\n",
    "model.save('../models/ctscan_model.h5')"
   ]
  },
  {
   "cell_type": "markdown",
   "id": "97da2cc6",
   "metadata": {},
   "source": [
    "## 5. Summary - CT scan image model"
   ]
  },
  {
   "cell_type": "markdown",
   "id": "b1977275",
   "metadata": {},
   "source": [
    "##### The brain model used Keras CNN model which have a good performance in preducting stroke and non-stroke. As such we will use it in our CT scan image classification model."
   ]
  },
  {
   "cell_type": "markdown",
   "id": "a0aee561",
   "metadata": {},
   "source": [
    "---"
   ]
  },
  {
   "cell_type": "markdown",
   "id": "419b7137",
   "metadata": {},
   "source": [
    "# *For overall Project 4:-*"
   ]
  },
  {
   "cell_type": "markdown",
   "id": "9c701036",
   "metadata": {},
   "source": [
    "## Limitation of the models\n",
    "\n",
    "- `Limited Training Data` : Due to limited data, the model might be overly specific to the training data (overfitting) or lack the complexity to capture the data's patterns (underfitting), hindering its ability to generalize well to unseen examples.\n",
    "\n",
    "- `Black box models` : Complex models like neural networks can be highly effective but often lack clear explanations for their decisions. This can make them unsuitable for domains where understanding the reasoning behind a prediction is crucial.\n"
   ]
  },
  {
   "cell_type": "markdown",
   "id": "78b679de",
   "metadata": {},
   "source": [
    "## Recommendation\n",
    "\n",
    "We need to find more training data to improve our models. Here are some ways to address dataset limitations in specific areas:\n",
    "\n",
    "- `Obesity`: For the obesity dataset, we could find more data on waist circumference and fat mass. This would make the model even more accurate.\n",
    "\n",
    "- `Stroke`: The current stroke dataset has a minority of stroke-positive examples.  Finding a bigger dataset with a more balanced distribution could improve the model's performance.\n",
    "\n",
    "- `CT Image scan`: We can improve the accuracy of our model by finding more CT image scans for training\n"
   ]
  },
  {
   "cell_type": "markdown",
   "id": "19a26b86",
   "metadata": {},
   "source": [
    "## Conclusion\n",
    "\n",
    "The models successfully address the problem statement by making it easier to identify patients at risk of stroke. They provide a solution to the need for a streamlined system that uses detailed patient information, including proper classification of obesity status, to improve stroke risk assessment during triage. This enables physicians to promptly refer at-risk patients for further evaluation, potentially reducing the likelihood of stroke occurrence."
   ]
  }
 ],
 "metadata": {
  "kernelspec": {
   "display_name": "Python 3 (ipykernel)",
   "language": "python",
   "name": "python3"
  },
  "language_info": {
   "codemirror_mode": {
    "name": "ipython",
    "version": 3
   },
   "file_extension": ".py",
   "mimetype": "text/x-python",
   "name": "python",
   "nbconvert_exporter": "python",
   "pygments_lexer": "ipython3",
   "version": "3.11.5"
  }
 },
 "nbformat": 4,
 "nbformat_minor": 5
}
