{
 "cells": [
  {
   "cell_type": "markdown",
   "id": "0b1b217c",
   "metadata": {},
   "source": [
    "<img src=\"http://imgur.com/1ZcRyrc.png\" style=\"float: left; margin: 20px; height: 55px\">\n",
    "\n",
    "# Capstone Project: 1.0 Data cleaning, preprocessing and EDA\n",
    "\n",
    "> Authors: Pius Yee"
   ]
  },
  {
   "cell_type": "markdown",
   "id": "46c84e3d",
   "metadata": {},
   "source": []
  },
  {
   "cell_type": "markdown",
   "id": "99a4f6a6",
   "metadata": {},
   "source": [
    "### Import libraries"
   ]
  },
  {
   "cell_type": "code",
   "execution_count": 1,
   "id": "b7381633",
   "metadata": {},
   "outputs": [],
   "source": [
    "import os\n",
    "import cv2\n",
    "import pandas as pd\n",
    "import numpy as np\n",
    "import matplotlib.pyplot as plt\n",
    "%matplotlib inline"
   ]
  },
  {
   "cell_type": "markdown",
   "id": "d03484e8",
   "metadata": {},
   "source": [
    "Face image dataset used is from UTKFace.\n",
    "\n",
    "Now I proceed to pre-process the images"
   ]
  },
  {
   "cell_type": "markdown",
   "id": "d812ded1",
   "metadata": {},
   "source": [
    "##### The labels of each face image is embedded in the file name, formated like [age]_[gender]_[race]_[date&time].jpg:\n",
    "\n",
    "[age] is an integer from 0 to 116, indicating the age\n",
    "\n",
    "[gender] is either 0 (male) or 1 (female)\n",
    "\n",
    "[race] is an integer from 0 to 4, denoting White, Black, Asian, Indian, and Others (like Hispanic, Latino, Middle Eastern).\n",
    "\n",
    "[date&time] is in the format of yyyymmddHHMMSSFFF, showing the date and time an image was collected to UTKFace\n"
   ]
  },
  {
   "cell_type": "code",
   "execution_count": 2,
   "id": "c2194041",
   "metadata": {},
   "outputs": [],
   "source": [
    "# define a function to get the label\n",
    "# for example, filename \"32_0_1_20170113183229559.jpg\" is age 32, male and black\n",
    "\n",
    "def extract_info_from_filename(filename):\n",
    "    age, gender, race, _ = filename.split(\"_\")\n",
    "    return age, gender, race"
   ]
  },
  {
   "cell_type": "code",
   "execution_count": 3,
   "id": "b6c7ac93",
   "metadata": {},
   "outputs": [
    {
     "data": {
      "text/plain": [
       "('32', '0', '1')"
      ]
     },
     "execution_count": 3,
     "metadata": {},
     "output_type": "execute_result"
    }
   ],
   "source": [
    "extract_info_from_filename(\"32_0_1_20170113183229559.jpg\")"
   ]
  },
  {
   "cell_type": "code",
   "execution_count": null,
   "id": "4cb169c8",
   "metadata": {},
   "outputs": [
    {
     "name": "stderr",
     "output_type": "stream",
     "text": [
      "Corrupt JPEG data: premature end of data segment\n"
     ]
    }
   ],
   "source": [
    "data_dir = \"../datasets/utkface\"\n",
    "\n",
    "images = []\n",
    "age_labels = []\n",
    "gender_labels = []\n",
    "race_labels = []\n",
    "\n",
    "for filename in os.listdir(data_dir):\n",
    "        if filename.endswith(\".jpg\"):\n",
    "            # Extract information from filename\n",
    "            age, gender, race = extract_info_from_filename(filename)\n",
    "\n",
    "            # Load image\n",
    "            image_path = os.path.join(data_dir, filename)\n",
    "            image = cv2.imread(image_path)\n",
    "            image = cv2.cvtColor(image, cv2.COLOR_BGR2RGB)  # Convert to RGB\n",
    "\n",
    "            # Preprocess image (resize, normalize, etc.)\n",
    "            image = cv2.resize(image, (224, 224))\n",
    "            image = image / 255.0  # Normalize pixel values\n",
    "\n",
    "            # Append to lists\n",
    "            images.append(image)\n",
    "            age_labels.append(age)\n",
    "            gender_labels.append(gender)\n",
    "            race_labels.append(race)                "
   ]
  },
  {
   "cell_type": "code",
   "execution_count": null,
   "id": "530aa943",
   "metadata": {},
   "outputs": [],
   "source": [
    "# create a dataframe for the data\n",
    "df_main = pd.DataFrame(data=[images,age_labels,gender_labels,race_labels]).T\n",
    "df_main.columns= ['img','age','gender','race']\n",
    "df_main"
   ]
  },
  {
   "cell_type": "code",
   "execution_count": null,
   "id": "912fb175",
   "metadata": {},
   "outputs": [],
   "source": [
    "df_main.to_csv(\"../datasets/df_main.csv\")"
   ]
  },
  {
   "cell_type": "code",
   "execution_count": null,
   "id": "588449b2",
   "metadata": {},
   "outputs": [],
   "source": []
  }
 ],
 "metadata": {
  "kernelspec": {
   "display_name": "Python 3 (ipykernel)",
   "language": "python",
   "name": "python3"
  },
  "language_info": {
   "codemirror_mode": {
    "name": "ipython",
    "version": 3
   },
   "file_extension": ".py",
   "mimetype": "text/x-python",
   "name": "python",
   "nbconvert_exporter": "python",
   "pygments_lexer": "ipython3",
   "version": "3.11.5"
  },
  "toc": {
   "base_numbering": 1,
   "nav_menu": {},
   "number_sections": true,
   "sideBar": true,
   "skip_h1_title": false,
   "title_cell": "Table of Contents",
   "title_sidebar": "Contents",
   "toc_cell": false,
   "toc_position": {},
   "toc_section_display": true,
   "toc_window_display": false
  }
 },
 "nbformat": 4,
 "nbformat_minor": 5
}
